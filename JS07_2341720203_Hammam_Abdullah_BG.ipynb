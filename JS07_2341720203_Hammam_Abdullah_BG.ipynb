{
  "nbformat": 4,
  "nbformat_minor": 0,
  "metadata": {
    "colab": {
      "provenance": [],
      "include_colab_link": true
    },
    "kernelspec": {
      "name": "python3",
      "display_name": "Python 3"
    },
    "language_info": {
      "name": "python"
    }
  },
  "cells": [
    {
      "cell_type": "markdown",
      "metadata": {
        "id": "view-in-github",
        "colab_type": "text"
      },
      "source": [
        "<a href=\"https://colab.research.google.com/github/hemoabdullah/ML-SMT5/blob/main/JS07_2341720203_Hammam_Abdullah_BG.ipynb\" target=\"_parent\"><img src=\"https://colab.research.google.com/assets/colab-badge.svg\" alt=\"Open In Colab\"/></a>"
      ]
    },
    {
      "cell_type": "code",
      "execution_count": null,
      "metadata": {
        "colab": {
          "base_uri": "https://localhost:8080/"
        },
        "id": "49-J9ZcMqE8M",
        "outputId": "3cd130e2-2c33-421c-de29-bb5059cbcad2"
      },
      "outputs": [
        {
          "output_type": "stream",
          "name": "stdout",
          "text": [
            "Mounted at /content/drive\n"
          ]
        }
      ],
      "source": [
        "from google.colab import drive\n",
        "drive.mount('/content/drive')"
      ]
    },
    {
      "cell_type": "markdown",
      "source": [
        "# **Lab 1**"
      ],
      "metadata": {
        "id": "k4bGoMy3qm79"
      }
    },
    {
      "cell_type": "markdown",
      "source": [
        "## first i need to Install Library"
      ],
      "metadata": {
        "id": "FLOqn-oHqq_Q"
      }
    },
    {
      "cell_type": "code",
      "source": [
        "# Install ANNOY\n",
        "!pip install annoy"
      ],
      "metadata": {
        "colab": {
          "base_uri": "https://localhost:8080/"
        },
        "id": "C__6kY6qqk9z",
        "outputId": "48f11931-94af-4957-af3e-fdc5068e335c"
      },
      "execution_count": null,
      "outputs": [
        {
          "output_type": "stream",
          "name": "stdout",
          "text": [
            "Collecting annoy\n",
            "  Downloading annoy-1.17.3.tar.gz (647 kB)\n",
            "\u001b[?25l     \u001b[90m━━━━━━━━━━━━━━━━━━━━━━━━━━━━━━━━━━━━━━━━\u001b[0m \u001b[32m0.0/647.5 kB\u001b[0m \u001b[31m?\u001b[0m eta \u001b[36m-:--:--\u001b[0m\r\u001b[2K     \u001b[90m━━━━━━━━━━━━━━━━━━━━━━━━━━━━━━━━━━━━━━\u001b[0m \u001b[32m647.5/647.5 kB\u001b[0m \u001b[31m30.2 MB/s\u001b[0m eta \u001b[36m0:00:00\u001b[0m\n",
            "\u001b[?25h  Preparing metadata (setup.py) ... \u001b[?25l\u001b[?25hdone\n",
            "Building wheels for collected packages: annoy\n",
            "annoy\n",
            "  Building wheel for annoy (setup.py) ... \u001b[?25l\u001b[?25hdone\n",
            "  Created wheel for annoy: filename=annoy-1.17.3-cp312-cp312-linux_x86_64.whl size=551809 sha256=486c81057e5f2a5a61df2b4b2b979aa2da54bc9f1bb510f9a2077d3af7ac0e7a\n",
            "  Stored in directory: /root/.cache/pip/wheels/db/b9/53/a3b2d1fe1743abadddec6aa541294b24fdbc39d7800bc57311\n",
            "Successfully built annoy\n",
            "Installing collected packages: annoy\n",
            "Successfully installed annoy-1.17.3\n"
          ]
        }
      ]
    },
    {
      "cell_type": "markdown",
      "source": [
        "## second is importing Library"
      ],
      "metadata": {
        "id": "idmB8QNFqxd1"
      }
    },
    {
      "cell_type": "code",
      "source": [
        "# Import Library\n",
        "import numpy as np\n",
        "import matplotlib.pyplot as plt\n",
        "import time\n",
        "\n",
        "from annoy import AnnoyIndex"
      ],
      "metadata": {
        "id": "fTurfmeyqz5p"
      },
      "execution_count": null,
      "outputs": []
    },
    {
      "cell_type": "markdown",
      "source": [
        "## 3.Creating a Dummy Dataset"
      ],
      "metadata": {
        "id": "NSpRayNYq2G5"
      }
    },
    {
      "cell_type": "code",
      "source": [
        "# Build Random Dataset and Query Point\n",
        "np.random.seed(42)\n",
        "n_points = 1000\n",
        "X = np.random.rand(n_points, 2) * 100  # random value at 100x100 space\n",
        "\n",
        "# Query point (pick 1 random data point)\n",
        "query = X[np.random.randint(0, n_points)]"
      ],
      "metadata": {
        "id": "yyylFgnoq3_J"
      },
      "execution_count": null,
      "outputs": []
    },
    {
      "cell_type": "markdown",
      "source": [
        "## 4. Exact NN"
      ],
      "metadata": {
        "id": "3geSQ-ecq5yI"
      }
    },
    {
      "cell_type": "code",
      "source": [
        "# Compute Exact NN Using Brute Force\n",
        "# It will visit the data one by one\n",
        "start = time.time()\n",
        "distances = np.linalg.norm(X - query, axis=1)\n",
        "idx_exact = np.argsort(distances)[:3]  # ambil 3 terdekat\n",
        "time_exact = time.time() - start\n",
        "\n",
        "print(\"Exact NN index:\", idx_exact)\n",
        "print(\"Exact NN jarak:\", distances[idx_exact])\n",
        "print(\"Waktu Exact:\", round(time_exact*1000, 4), \"ms\")"
      ],
      "metadata": {
        "colab": {
          "base_uri": "https://localhost:8080/"
        },
        "id": "LXNoLOBbq81Z",
        "outputId": "995cb16b-6460-4859-c5bb-92e807327a48"
      },
      "execution_count": null,
      "outputs": [
        {
          "output_type": "stream",
          "name": "stdout",
          "text": [
            "Exact NN index: [219 898 593]\n",
            "Exact NN jarak: [0.         1.36915938 2.27931544]\n",
            "Waktu Exact: 11.5469 ms\n"
          ]
        }
      ]
    },
    {
      "cell_type": "markdown",
      "source": [
        "## 5. Nearest Neighbors with ANNOY"
      ],
      "metadata": {
        "id": "xZ4gAhP1rAaF"
      }
    },
    {
      "cell_type": "code",
      "source": [
        "# ANNOY 3 Tree\n",
        "f = 2  # dimensi\n",
        "t = AnnoyIndex(f, 'euclidean')\n",
        "for i, vec in enumerate(X):\n",
        "    t.add_item(i, vec)\n",
        "\n",
        "t.build(3)  # 3 trees\n",
        "\n",
        "start = time.time()\n",
        "idx_ann = t.get_nns_by_vector(query, 3)  # find 3 NN\n",
        "time_ann = time.time() - start\n",
        "\n",
        "print(\"\\nAnnoy NN index:\", idx_ann)\n",
        "print(\"Annoy NN jarak:\", [np.linalg.norm(X[i]-query) for i in idx_ann])\n",
        "print(\"Waktu Annoy:\", round(time_ann*1000, 4), \"ms\")"
      ],
      "metadata": {
        "colab": {
          "base_uri": "https://localhost:8080/"
        },
        "id": "kOiO0n2trBrt",
        "outputId": "bb3cf7dc-a1df-4a7e-da72-18a1d013ba7b"
      },
      "execution_count": null,
      "outputs": [
        {
          "output_type": "stream",
          "name": "stdout",
          "text": [
            "\n",
            "Annoy NN index: [219, 898, 770]\n",
            "Annoy NN jarak: [np.float64(0.0), np.float64(1.369159376273702), np.float64(2.568167959732514)]\n",
            "Waktu Annoy: 0.1419 ms\n"
          ]
        }
      ]
    },
    {
      "cell_type": "markdown",
      "source": [
        "## Step 6 - Visualize the NN Result"
      ],
      "metadata": {
        "id": "fhx61kZ1rEHW"
      }
    },
    {
      "cell_type": "code",
      "source": [
        "# Visualize\n",
        "# Knowing the NN produced by Exact NN and ANNOY\n",
        "plt.figure(figsize=(6,6))\n",
        "plt.scatter(X[:,0], X[:,1], c=\"lightgray\", s=20, label=\"Dataset\")\n",
        "plt.scatter(query[0], query[1], c=\"red\", marker=\"x\", s=100, label=\"Query\")\n",
        "\n",
        "# Exact NN ditandai biru\n",
        "plt.scatter(X[idx_exact,0], X[idx_exact,1], c=\"blue\", s=80, label=\"Exact NN\")\n",
        "\n",
        "# Annoy NN ditandai hijau\n",
        "plt.scatter(X[idx_ann,0], X[idx_ann,1], c=\"green\", s=50, marker=\"s\", label=\"Annoy NN\")\n",
        "\n",
        "plt.legend()\n",
        "plt.title(\"Exact NN vs Annoy NN (3 trees)\")\n",
        "plt.show()"
      ],
      "metadata": {
        "colab": {
          "base_uri": "https://localhost:8080/",
          "height": 545
        },
        "id": "d8xn4yg-rE_X",
        "outputId": "13a1a0f3-5928-4dff-e611-fe867f85289d"
      },
      "execution_count": null,
      "outputs": [
        {
          "output_type": "display_data",
          "data": {
            "text/plain": [
              "<Figure size 600x600 with 1 Axes>"
            ],
            "image/png": "[encoded data removed]"
          },
          "metadata": {}
        }
      ]
    },
    {
      "cell_type": "markdown",
      "source": [
        "# **Lab 2**"
      ],
      "metadata": {
        "id": "0h5JiN6CrPms"
      }
    },
    {
      "cell_type": "markdown",
      "source": [
        "## 1. we will Install FAISS Library"
      ],
      "metadata": {
        "id": "C3kCj-aNrSeL"
      }
    },
    {
      "cell_type": "code",
      "source": [
        "!pip install faiss-cpu"
      ],
      "metadata": {
        "colab": {
          "base_uri": "https://localhost:8080/"
        },
        "id": "FjH-PZlvrRCw",
        "outputId": "644dfd33-add6-46a5-9185-bbe85f275418"
      },
      "execution_count": null,
      "outputs": [
        {
          "output_type": "stream",
          "name": "stdout",
          "text": [
            "Collecting faiss-cpu\n",
            "  Downloading faiss_cpu-1.12.0-cp312-cp312-manylinux_2_27_x86_64.manylinux_2_28_x86_64.whl.metadata (5.1 kB)\n",
            "Requirement already satisfied: numpy<3.0,>=1.25.0 in /usr/local/lib/python3.12/dist-packages (from faiss-cpu) (2.0.2)\n",
            "Requirement already satisfied: packaging in /usr/local/lib/python3.12/dist-packages (from faiss-cpu) (25.0)\n",
            "Downloading faiss_cpu-1.12.0-cp312-cp312-manylinux_2_27_x86_64.manylinux_2_28_x86_64.whl (31.4 MB)\n",
            "\u001b[2K   \u001b[90m━━━━━━━━━━━━━━━━━━━━━━━━━━━━━━━━━━━━━━━━\u001b[0m \u001b[32m31.4/31.4 MB\u001b[0m \u001b[31m57.7 MB/s\u001b[0m eta \u001b[36m0:00:00\u001b[0m\n",
            "\u001b[?25hInstalling collected packages: faiss-cpu\n",
            "Successfully installed faiss-cpu-1.12.0\n"
          ]
        }
      ]
    },
    {
      "cell_type": "markdown",
      "source": [
        "## 2. Import Libraries"
      ],
      "metadata": {
        "id": "M_wxr21NrXnX"
      }
    },
    {
      "cell_type": "code",
      "source": [
        "import numpy as np\n",
        "import faiss\n",
        "import matplotlib.pyplot as plt\n",
        "import time"
      ],
      "metadata": {
        "id": "qV1CVwiOrYtT"
      },
      "execution_count": null,
      "outputs": []
    },
    {
      "cell_type": "markdown",
      "source": [
        "## 3. Create a Dummy Dataset"
      ],
      "metadata": {
        "id": "vgSfg4_mragU"
      }
    },
    {
      "cell_type": "code",
      "source": [
        "# Build random data\n",
        "np.random.seed(42)\n",
        "X = np.random.rand(1000, 2).astype('float32')  # 1000 data 2D\n",
        "query = np.array([[0.5, 0.5]], dtype='float32')  # query point"
      ],
      "metadata": {
        "id": "V3uUJTHfrdC7"
      },
      "execution_count": null,
      "outputs": []
    },
    {
      "cell_type": "markdown",
      "source": [
        "\n",
        "\n",
        "```\n",
        "# This is formatted as code\n",
        "```\n",
        "\n",
        "## 4. Build Exact NN Model"
      ],
      "metadata": {
        "id": "welf8mQ5redu"
      }
    },
    {
      "cell_type": "code",
      "source": [
        "# Search NN using Exact NN\n",
        "index_flat = faiss.IndexFlatL2(2)   # L2 = Euclidean distance\n",
        "index_flat.add(X)\n",
        "\n",
        "# Compute Exact NN Time\n",
        "start = time.time()\n",
        "D_flat, I_flat = index_flat.search(query, 3)  # Find 3 NN\n",
        "end = time.time()\n",
        "time_flat = end - start"
      ],
      "metadata": {
        "id": "TqPlK8_erf-B"
      },
      "execution_count": null,
      "outputs": []
    },
    {
      "cell_type": "markdown",
      "source": [
        "## 5. Build FAISS Model"
      ],
      "metadata": {
        "id": "TzudsMi_riJZ"
      }
    },
    {
      "cell_type": "code",
      "source": [
        "# Compute FAISS\n",
        "nlist = 10   # n-cluster (inverted list)\n",
        "m = 2        # number of subvector\n",
        "quantizer = faiss.IndexFlatL2(2)   # used by IVF for initiatl cluster\n",
        "index_ivfpq = faiss.IndexIVFPQ(quantizer, 2, nlist, m, 8)  # 8 bit per subvector\n",
        "\n",
        "index_ivfpq.train(X)  # training centroid\n",
        "index_ivfpq.add(X)\n",
        "\n",
        "start = time.time()\n",
        "D_ivfpq, I_ivfpq = index_ivfpq.search(query, 3)\n",
        "end = time.time()\n",
        "time_ivfpq = end - start"
      ],
      "metadata": {
        "id": "jocReenRrkbb"
      },
      "execution_count": null,
      "outputs": []
    },
    {
      "cell_type": "markdown",
      "source": [
        "## 6. we Compare The Performance"
      ],
      "metadata": {
        "id": "dH1T8jtIrmq0"
      }
    },
    {
      "cell_type": "code",
      "source": [
        "# Print The Peformances\n",
        "print(\"Exact NN (Flat) indices:\", I_flat, \"distances:\", D_flat)\n",
        "print(\"IVF+PQ indices:\", I_ivfpq, \"distances:\", D_ivfpq)\n",
        "print(\"Waktu Exact:\", time_flat)\n",
        "print(\"Waktu IVF+PQ:\", time_ivfpq)"
      ],
      "metadata": {
        "colab": {
          "base_uri": "https://localhost:8080/"
        },
        "id": "IhY5U0tyrpdU",
        "outputId": "c4b5464f-d972-40b1-a046-16bba68f54f3"
      },
      "execution_count": null,
      "outputs": [
        {
          "output_type": "stream",
          "name": "stdout",
          "text": [
            "Exact NN (Flat) indices: [[137 170 750]] distances: [[0.00013095 0.00077404 0.00079751]]\n",
            "IVF+PQ indices: [[137 170 750]] distances: [[0.00012945 0.00079226 0.00080067]]\n",
            "Waktu Exact: 0.0002186298370361328\n",
            "Waktu IVF+PQ: 0.0001857280731201172\n"
          ]
        }
      ]
    },
    {
      "cell_type": "markdown",
      "source": [
        "## 7. last is Visualize"
      ],
      "metadata": {
        "id": "cpfpGVx7rq7P"
      }
    },
    {
      "cell_type": "code",
      "source": [
        "# Visualize\n",
        "plt.scatter(X[:,0], X[:,1], alpha=0.4, label=\"Dataset\")\n",
        "plt.scatter(query[:,0], query[:,1], c='red', marker='*', s=200, label=\"Query\")\n",
        "\n",
        "# Flat NN -> Exact NN\n",
        "plt.scatter(X[I_flat[0],0], X[I_flat[0],1], c='blue', s=100, edgecolor='k', label=\"Exact NN\")\n",
        "\n",
        "# IVF+PQ NN -> FAISS\n",
        "plt.scatter(X[I_ivfpq[0],0], X[I_ivfpq[0],1], c='green', marker='x', s=100, label=\"IVF+PQ NN\")\n",
        "\n",
        "plt.legend()\n",
        "plt.title(\"Exact NN vs FAISS IVF+PQ\")\n",
        "plt.show()"
      ],
      "metadata": {
        "colab": {
          "base_uri": "https://localhost:8080/",
          "height": 452
        },
        "id": "ySgqeEkrsdGb",
        "outputId": "cf1a6498-f471-4f9b-abe5-50a6b480d70c"
      },
      "execution_count": null,
      "outputs": [
        {
          "output_type": "display_data",
          "data": {
            "text/plain": [
              "<Figure size 640x480 with 1 Axes>"
            ],
            "image/png": "[encoded data removed]"
          },
          "metadata": {}
        }
      ]
    },
    {
      "cell_type": "markdown",
      "source": [
        "# **Lab 3**"
      ],
      "metadata": {
        "id": "YPY6nNrwsk_h"
      }
    },
    {
      "cell_type": "markdown",
      "source": [
        "## 1. first is Installing HNSW Library"
      ],
      "metadata": {
        "id": "vkw2lWkXsqBt"
      }
    },
    {
      "cell_type": "code",
      "source": [
        "!pip install hnswlib"
      ],
      "metadata": {
        "colab": {
          "base_uri": "https://localhost:8080/"
        },
        "id": "opKpRmFzsoGB",
        "outputId": "bf69c356-e33d-46db-9c47-b1b257567c23"
      },
      "execution_count": null,
      "outputs": [
        {
          "output_type": "stream",
          "name": "stdout",
          "text": [
            "Collecting hnswlib\n",
            "  Downloading hnswlib-0.8.0.tar.gz (36 kB)\n",
            "  Installing build dependencies ... \u001b[?25l\u001b[?25hdone\n",
            "  Getting requirements to build wheel ... \u001b[?25l\u001b[?25hdone\n",
            "  Preparing metadata (pyproject.toml) ... \u001b[?25l\u001b[?25hdone\n",
            "Requirement already satisfied: numpy in /usr/local/lib/python3.12/dist-packages (from hnswlib) (2.0.2)\n",
            "Building wheels for collected packages: hnswlib\n",
            "  Building wheel for hnswlib (pyproject.toml) ... \u001b[?25l\u001b[?25hdone\n",
            "  Created wheel for hnswlib: filename=hnswlib-0.8.0-cp312-cp312-linux_x86_64.whl size=2528147 sha256=51352fd60914c461ac819b7c31223af2fee425af71695b18701f6a2cb56b9f22\n",
            "  Stored in directory: /root/.cache/pip/wheels/ac/39/b3/cbd7f9cbb76501d2d5fbc84956e70d0b94e788aac87bda465e\n",
            "Successfully built hnswlib\n",
            "Installing collected packages: hnswlib\n",
            "Successfully installed hnswlib-0.8.0\n"
          ]
        }
      ]
    },
    {
      "cell_type": "markdown",
      "source": [
        "## 2. Import Libraries"
      ],
      "metadata": {
        "id": "D22fUMU3tfB8"
      }
    },
    {
      "cell_type": "code",
      "source": [
        "import hnswlib\n",
        "import numpy as np\n",
        "import time\n",
        "from sklearn.neighbors import NearestNeighbors"
      ],
      "metadata": {
        "id": "wi7yN8zItghF"
      },
      "execution_count": null,
      "outputs": []
    },
    {
      "cell_type": "markdown",
      "source": [
        "## 3. Creating a Dummy Dataset"
      ],
      "metadata": {
        "id": "VWofsoqwti0M"
      }
    },
    {
      "cell_type": "code",
      "source": [
        "# Build Dummy Dataset\n",
        "num_elements = 1000\n",
        "dim = 2\n",
        "data = np.random.random((num_elements, dim)).astype(np.float32)\n",
        "\n",
        "# Query point\n",
        "query = np.array([[0.5, 0.5]], dtype=np.float32)\n",
        "k = 5  # cari 5 tetangga terdekat"
      ],
      "metadata": {
        "id": "v0zL9OEptjxw"
      },
      "execution_count": null,
      "outputs": []
    },
    {
      "cell_type": "markdown",
      "source": [
        "## 4. Build Exact NN Model"
      ],
      "metadata": {
        "id": "CgpZLpmRtluJ"
      }
    },
    {
      "cell_type": "code",
      "source": [
        "# Build NN Model\n",
        "nn = NearestNeighbors(n_neighbors=k, algorithm='brute', metric='euclidean')\n",
        "nn.fit(data)\n",
        "\n",
        "# Compute time performace\n",
        "start = time.time()\n",
        "distances, indices = nn.kneighbors(query)\n",
        "end = time.time()\n",
        "\n",
        "print(\"=== Exact NN ===\")\n",
        "print(\"Indices:\", indices)\n",
        "print(\"Distances:\", distances)\n",
        "print(\"Waktu:\", end - start, \"s\")"
      ],
      "metadata": {
        "colab": {
          "base_uri": "https://localhost:8080/"
        },
        "id": "pjJVIWsTuDIg",
        "outputId": "436d9c4d-cd7e-4ba5-e5ea-340121ec5d1a"
      },
      "execution_count": null,
      "outputs": [
        {
          "output_type": "stream",
          "name": "stdout",
          "text": [
            "=== Exact NN ===\n",
            "Indices: [[830 247 473 913 592]]\n",
            "Distances: [[0.00993625 0.01363944 0.01646171 0.03779694 0.03859071]]\n",
            "Waktu: 0.06852364540100098 s\n"
          ]
        }
      ]
    },
    {
      "cell_type": "markdown",
      "source": [
        "## 5. Build HNSW Model"
      ],
      "metadata": {
        "id": "YYx1BXUVuE3q"
      }
    },
    {
      "cell_type": "code",
      "source": [
        "# Initiate Index\n",
        "p = hnswlib.Index(space='l2', dim=dim)\n",
        "\n",
        "# Define Max Elements\n",
        "p.init_index(max_elements=num_elements, ef_construction=100, M=16)\n",
        "\n",
        "# Add Data\n",
        "p.add_items(data)\n",
        "\n",
        "# Set searching parameter\n",
        "p.set_ef(50)   # tradeoff speed vs accuracy\n",
        "\n",
        "start = time.time()\n",
        "labels, distances = p.knn_query(query, k=k)\n",
        "end = time.time()\n",
        "\n",
        "print(\"\\n=== HNSW ===\")\n",
        "print(\"Indices:\", labels)\n",
        "print(\"Distances:\", distances)\n",
        "print(\"Waktu:\", end - start, \"s\")"
      ],
      "metadata": {
        "colab": {
          "base_uri": "https://localhost:8080/"
        },
        "id": "IeZcaUNduHj2",
        "outputId": "94dbaf1f-93e9-4daa-fc18-e11d6de8b7b2"
      },
      "execution_count": null,
      "outputs": [
        {
          "output_type": "stream",
          "name": "stdout",
          "text": [
            "\n",
            "=== HNSW ===\n",
            "Indices: [[830 247 473 913 592]]\n",
            "Distances: [[9.8728990e-05 1.8603441e-04 2.7098786e-04 1.4286089e-03 1.4892431e-03]]\n",
            "Waktu: 0.00024628639221191406 s\n"
          ]
        }
      ]
    },
    {
      "cell_type": "markdown",
      "source": [
        "# **Lab 4**"
      ],
      "metadata": {
        "id": "KnbL2o7ZuKk4"
      }
    },
    {
      "cell_type": "code",
      "source": [
        "import numpy as np\n",
        "import time\n",
        "from annoy import AnnoyIndex\n",
        "import faiss\n",
        "import hnswlib\n",
        "\n",
        "# ===============================\n",
        "# Build 1mio rows with 5D\n",
        "# ===============================\n",
        "n_data = 1_000_000   # try 100_000 if you have limited memory\n",
        "dim = 5\n",
        "X = np.random.random((n_data, dim)).astype(np.float32)\n",
        "\n",
        "# Query point\n",
        "query = np.random.random((1, dim)).astype(np.float32)\n",
        "k = 10\n",
        "\n",
        "# ===============================\n",
        "# 2. Annoy\n",
        "# ===============================\n",
        "print(\"=== Annoy ===\")\n",
        "ann_index = AnnoyIndex(dim, 'euclidean')\n",
        "\n",
        "start = time.time()\n",
        "for i in range(n_data):\n",
        "    ann_index.add_item(i, X[i])\n",
        "ann_index.build(10)  # 10 trees\n",
        "build_time = time.time() - start\n",
        "\n",
        "start = time.time()\n",
        "neighbors = ann_index.get_nns_by_vector(query[0], k, include_distances=True)\n",
        "query_time = time.time() - start\n",
        "\n",
        "print(\"Build time:\", build_time, \"detik\")\n",
        "print(\"Query time:\", query_time, \"detik\")\n",
        "print(\"Neighbors:\", neighbors[0][:5], \"...\")\n",
        "\n",
        "# ===============================\n",
        "# 3. FAISS (Flat Index)\n",
        "# ===============================\n",
        "print(\"\\n=== FAISS (IndexFlatL2) ===\")\n",
        "faiss_index = faiss.IndexFlatL2(dim)\n",
        "\n",
        "start = time.time()\n",
        "faiss_index.add(X)\n",
        "build_time = time.time() - start\n",
        "\n",
        "start = time.time()\n",
        "distances, indices = faiss_index.search(query, k)\n",
        "query_time = time.time() - start\n",
        "\n",
        "print(\"Build time:\", build_time, \"detik\")\n",
        "print(\"Query time:\", query_time, \"detik\")\n",
        "print(\"Neighbors:\", indices[0][:5], \"...\")\n",
        "\n",
        "# ===============================\n",
        "# 4. HNSW (hnswlib)\n",
        "# ===============================\n",
        "print(\"\\n=== HNSW (hnswlib) ===\")\n",
        "hnsw_index = hnswlib.Index(space='l2', dim=dim)\n",
        "\n",
        "start = time.time()\n",
        "hnsw_index.init_index(max_elements=n_data, ef_construction=200, M=16)\n",
        "hnsw_index.add_items(X)\n",
        "build_time = time.time() - start\n",
        "\n",
        "hnsw_index.set_ef(50)\n",
        "\n",
        "start = time.time()\n",
        "labels, distances = hnsw_index.knn_query(query, k=k)\n",
        "query_time = time.time() - start\n",
        "\n",
        "print(\"Build time:\", build_time, \"detik\")\n",
        "print(\"Query time:\", query_time, \"detik\")\n",
        "print(\"Neighbors:\", labels[0][:5], \"...\")"
      ],
      "metadata": {
        "colab": {
          "base_uri": "https://localhost:8080/"
        },
        "id": "yR5UAGnAuSSk",
        "outputId": "9ff98b33-e10e-46b4-e733-91307619ddbc"
      },
      "execution_count": null,
      "outputs": [
        {
          "output_type": "stream",
          "name": "stdout",
          "text": [
            "=== Annoy ===\n",
            "Build time: 40.32027864456177 detik\n",
            "Query time: 0.00022649765014648438 detik\n",
            "Neighbors: [129179, 559276, 630783, 213191, 559393] ...\n",
            "\n",
            "=== FAISS (IndexFlatL2) ===\n",
            "Build time: 0.0220487117767334 detik\n",
            "Query time: 0.006628513336181641 detik\n",
            "Neighbors: [129179 559276 630783 213191 559393] ...\n",
            "\n",
            "=== HNSW (hnswlib) ===\n",
            "Build time: 239.08861303329468 detik\n",
            "Query time: 0.0007460117340087891 detik\n",
            "Neighbors: [129179 559276 630783 213191 559393] ...\n"
          ]
        }
      ]
    },
    {
      "cell_type": "markdown",
      "source": [
        "# **Lab 5**"
      ],
      "metadata": {
        "id": "2qAGaTuwyhOg"
      }
    },
    {
      "cell_type": "code",
      "source": [
        "import numpy as np\n",
        "import time\n",
        "import faiss\n",
        "from annoy import AnnoyIndex\n",
        "import hnswlib\n",
        "import matplotlib.pyplot as plt\n",
        "\n",
        "# -------------------------------\n",
        "# Dataset random\n",
        "# -------------------------------\n",
        "d = 128        # dimensi\n",
        "nb = 100000    # jumlah database vector\n",
        "nq = 1000      # jumlah query\n",
        "\n",
        "np.random.seed(42)\n",
        "xb = np.random.random((nb, d)).astype('float32')\n",
        "xq = np.random.random((nq, d)).astype('float32')\n",
        "\n",
        "# -------------------------------\n",
        "# Ground truth dengan FAISS brute force\n",
        "# -------------------------------\n",
        "index_flat = faiss.IndexFlatL2(d)\n",
        "index_flat.add(xb)\n",
        "k = 10\n",
        "_, gt_idx = index_flat.search(xq, k)\n",
        "\n",
        "# -------------------------------\n",
        "# Fungsi recall\n",
        "# -------------------------------\n",
        "def recall_at_k(I_pred, I_gt, k):\n",
        "    correct = 0\n",
        "    for i in range(len(I_pred)):\n",
        "        correct += len(set(I_pred[i][:k]) & set(I_gt[i][:k]))\n",
        "    return correct / (len(I_pred) * k)\n",
        "\n",
        "# -------------------------------\n",
        "# Benchmark Annoy\n",
        "# -------------------------------\n",
        "def run_annoy(xb, xq, n_trees=10, search_k=1000, k=10):\n",
        "    f = xb.shape[1]\n",
        "    index = AnnoyIndex(f, 'euclidean')\n",
        "    for i, v in enumerate(xb):\n",
        "        index.add_item(i, v)\n",
        "    index.build(n_trees)\n",
        "\n",
        "    start = time.time()\n",
        "    I = [index.get_nns_by_vector(v, k, search_k=search_k) for v in xq]\n",
        "    elapsed = (time.time() - start) * 1000 / len(xq)  # ms/query\n",
        "    rec = recall_at_k(I, gt_idx, k)\n",
        "    return rec, elapsed\n",
        "\n",
        "# -------------------------------\n",
        "# Benchmark FAISS IVF\n",
        "# -------------------------------\n",
        "def run_faiss(xb, xq, nlist=100, nprobe=10, k=10):\n",
        "    quantizer = faiss.IndexFlatL2(d)\n",
        "    index = faiss.IndexIVFFlat(quantizer, d, nlist, faiss.METRIC_L2)\n",
        "    index.train(xb)\n",
        "    index.add(xb)\n",
        "\n",
        "    index.nprobe = nprobe\n",
        "    start = time.time()\n",
        "    _, I = index.search(xq, k)\n",
        "    elapsed = (time.time() - start) * 1000 / len(xq)\n",
        "    rec = recall_at_k(I, gt_idx, k)\n",
        "    return rec, elapsed\n",
        "\n",
        "# -------------------------------\n",
        "# Benchmark HNSW\n",
        "# -------------------------------\n",
        "def run_hnsw(xb, xq, ef=100, M=16, k=10):\n",
        "    num_elements = xb.shape[0]\n",
        "    p = hnswlib.Index(space='l2', dim=d)\n",
        "    p.init_index(max_elements=num_elements, ef_construction=200, M=M)\n",
        "    p.add_items(xb)\n",
        "    p.set_ef(ef)\n",
        "\n",
        "    start = time.time()\n",
        "    I, _ = p.knn_query(xq, k)\n",
        "    elapsed = (time.time() - start) * 1000 / len(xq)\n",
        "    rec = recall_at_k(I, gt_idx, k)\n",
        "    return rec, elapsed\n",
        "\n",
        "# -------------------------------\n",
        "# Jalankan benchmark dengan beberapa parameter\n",
        "# -------------------------------\n",
        "results = {\"Annoy\": [], \"Faiss\": [], \"HNSW\": []}\n",
        "\n",
        "# Annoy\n",
        "for sk in [200, 500, 1000, 2000]:\n",
        "    rec, t = run_annoy(xb, xq, n_trees=10, search_k=sk)\n",
        "    results[\"Annoy\"].append((rec, t))\n",
        "\n",
        "# FAISS\n",
        "for npb in [1, 5, 10, 20]:\n",
        "    rec, t = run_faiss(xb, xq, nlist=100, nprobe=npb)\n",
        "    results[\"Faiss\"].append((rec, t))\n",
        "\n",
        "# HNSW\n",
        "for ef in [50, 100, 200, 400]:\n",
        "    rec, t = run_hnsw(xb, xq, ef=ef)\n",
        "    results[\"HNSW\"].append((rec, t))\n",
        "\n",
        "# -------------------------------\n",
        "# Visualisasi trade-off\n",
        "# -------------------------------\n",
        "plt.figure(figsize=(8,6))\n",
        "for label, color in zip(results.keys(), [\"blue\",\"green\",\"red\"]):\n",
        "    recall, qtime = zip(*results[label])\n",
        "    plt.plot(recall, qtime, marker=\"o\", label=label, color=color)\n",
        "\n",
        "plt.xlabel(\"Recall\")\n",
        "plt.ylabel(\"Query Time (ms/query, log scale)\")\n",
        "plt.yscale(\"log\")\n",
        "plt.gca().invert_yaxis()  # invert Y, makin kanan makin turun\n",
        "plt.title(\"ANN Benchmark (Annoy vs Faiss vs HNSW)\")\n",
        "plt.legend()\n",
        "plt.grid(True, which=\"both\", ls=\"--\", alpha=0.6)\n",
        "plt.show()"
      ],
      "metadata": {
        "colab": {
          "base_uri": "https://localhost:8080/",
          "height": 564
        },
        "id": "IP2zVzI6ysOL",
        "outputId": "4b60ac06-d8c2-4043-be6b-fb8b80fe17f3"
      },
      "execution_count": null,
      "outputs": [
        {
          "output_type": "display_data",
          "data": {
            "text/plain": [
              "<Figure size 800x600 with 1 Axes>"
            ],
            "image/png": "[encoded data removed]"
          },
          "metadata": {}
        }
      ]
    },
    {
      "cell_type": "markdown",
      "source": [
        "# ** Assignment 1**"
      ],
      "metadata": {
        "id": "ZO12GpRr0Yyr"
      }
    },
    {
      "cell_type": "markdown",
      "source": [
        "## 1000/2D"
      ],
      "metadata": {
        "id": "zQly3Md5LtZV"
      }
    },
    {
      "cell_type": "code",
      "source": [
        "from tabulate import tabulate\n",
        "from annoy import AnnoyIndex\n",
        "import time\n",
        "import numpy as np\n",
        "import faiss\n",
        "import hnswlib\n",
        "\n",
        "print('=== CRITERIA : 1000/2D ===\\n')\n",
        "\n",
        "np.random.seed(42)\n",
        "\n",
        "n_data = 1_000\n",
        "dim = 2\n",
        "k = 10\n",
        "\n",
        "X = np.random.random((n_data, dim)).astype(np.float32)\n",
        "query = np.random.random((1, dim)).astype(np.float32)\n",
        "\n",
        "# ANNOY\n",
        "ann_index = AnnoyIndex(dim, 'euclidean')\n",
        "\n",
        "ann_start = time.time()\n",
        "for i in range(n_data):\n",
        "    ann_index.add_item(i, X[i])\n",
        "ann_index.build(n_trees=10)\n",
        "ann_build_time = time.time() - ann_start\n",
        "\n",
        "ann_start = time.time()\n",
        "ann_neighbors = ann_index.get_nns_by_vector(query[0], 10, include_distances=True)\n",
        "ann_query_time = time.time() - ann_start\n",
        "\n",
        "ann_total_time = ann_build_time + ann_query_time\n",
        "\n",
        "print('ANNOY :')\n",
        "print(\"Build time:\", ann_build_time, \"s\")\n",
        "print(\"Query time:\", ann_query_time, \"s\")\n",
        "print(\"Neighbors:\", ann_neighbors[0][:5], \"...\")\n",
        "print(\"Time of execution:\", ann_total_time, \"s\")\n",
        "\n",
        "# FAISS\n",
        "faiss_index = faiss.IndexFlatL2(dim)\n",
        "\n",
        "faiss_start = time.time()\n",
        "faiss_index.add(X)\n",
        "faiss_build_time = time.time() - faiss_start\n",
        "\n",
        "faiss_start = time.perf_counter()\n",
        "distances_f, indices_f = faiss_index.search(query, k)\n",
        "faiss_query_time = time.perf_counter() - faiss_start\n",
        "\n",
        "faiss_total_time = faiss_build_time + faiss_query_time\n",
        "\n",
        "print('\\nFAISS :')\n",
        "print(\"Build time:\", faiss_build_time, \"s\")\n",
        "print(\"Query time:\", faiss_query_time, \"s\")\n",
        "print(\"Neighbors:\", indices_f[0][:5], \"...\")\n",
        "print(\"Time of execution:\", faiss_total_time, \"s\")\n",
        "\n",
        "# HNSW\n",
        "hnsw_index = hnswlib.Index(space='l2', dim=dim)\n",
        "\n",
        "hnsw_start = time.perf_counter()\n",
        "hnsw_index.init_index(max_elements=n_data, ef_construction=200, M=16)\n",
        "hnsw_index.add_items(X)\n",
        "build_time = time.perf_counter() - hnsw_start\n",
        "\n",
        "hnsw_index.set_ef(50)\n",
        "\n",
        "hnsw_start = time.perf_counter()\n",
        "labels_h, distances_h = hnsw_index.knn_query(query, k=k)\n",
        "hnsw_query_time = time.perf_counter() - hnsw_start\n",
        "\n",
        "hnsw_total_time = build_time + hnsw_query_time\n",
        "\n",
        "print('\\nHNSW :')\n",
        "print(\"Build time:\", build_time, \"s\")\n",
        "print(\"Query time:\", hnsw_query_time, \"s\")\n",
        "print(\"Neighbors:\", labels_h[0][:5], \"...\")\n",
        "print(\"Time of execution:\", hnsw_total_time, \"s\")"
      ],
      "metadata": {
        "colab": {
          "base_uri": "https://localhost:8080/"
        },
        "id": "yYLNjypSLFFl",
        "outputId": "ce2f1fdd-edb4-4a0d-a0e3-8fe231f6e8c8"
      },
      "execution_count": null,
      "outputs": [
        {
          "output_type": "stream",
          "name": "stdout",
          "text": [
            "=== CRITERIA : 1000/2D ===\n",
            "\n",
            "ANNOY :\n",
            "Build time: 0.022024869918823242 s\n",
            "Query time: 0.0002377033233642578 s\n",
            "Neighbors: [112, 535, 777, 246, 763] ...\n",
            "Time of execution: 0.0222625732421875 s\n",
            "\n",
            "FAISS :\n",
            "Build time: 9.894371032714844e-05 s\n",
            "Query time: 0.00011846200004583807 s\n",
            "Neighbors: [112 535 777 246 763] ...\n",
            "Time of execution: 0.0002174057103729865 s\n",
            "\n",
            "HNSW :\n",
            "Build time: 0.04728429399995093 s\n",
            "Query time: 0.0001934160000018892 s\n",
            "Neighbors: [112 535 777 246 763] ...\n",
            "Time of execution: 0.04747770999995282 s\n"
          ]
        }
      ]
    },
    {
      "cell_type": "markdown",
      "source": [
        "## **1000/5D**"
      ],
      "metadata": {
        "id": "ihffCnxYOaGw"
      }
    },
    {
      "cell_type": "code",
      "source": [
        "from tabulate import tabulate\n",
        "from annoy import AnnoyIndex\n",
        "import time\n",
        "import numpy as np\n",
        "import faiss\n",
        "import hnswlib\n",
        "\n",
        "print('=== CRITERIA : 1000/5D ===\\n')\n",
        "\n",
        "np.random.seed(42)\n",
        "\n",
        "n_data = 1_000\n",
        "dim = 5\n",
        "k = 10\n",
        "\n",
        "X = np.random.random((n_data, dim)).astype(np.float32)\n",
        "query = np.random.random((1, dim)).astype(np.float32)\n",
        "\n",
        "# ANNOY\n",
        "ann_index = AnnoyIndex(dim, 'euclidean')\n",
        "\n",
        "ann_start = time.time()\n",
        "for i in range(n_data):\n",
        "    ann_index.add_item(i, X[i])\n",
        "ann_index.build(n_trees=10)\n",
        "ann_build_time = time.time() - ann_start\n",
        "\n",
        "ann_start = time.time()\n",
        "ann_neighbors = ann_index.get_nns_by_vector(query[0], 10, include_distances=True)\n",
        "ann_query_time = time.time() - ann_start\n",
        "\n",
        "ann_total_time = ann_build_time + ann_query_time\n",
        "\n",
        "print('ANNOY :')\n",
        "print(\"Build time:\", ann_build_time, \"s\")\n",
        "print(\"Query time:\", ann_query_time, \"s\")\n",
        "print(\"Neighbors:\", ann_neighbors[0][:5], \"...\")\n",
        "print(\"Time of execution:\", ann_total_time, \"s\")\n",
        "\n",
        "# FAISS\n",
        "faiss_index = faiss.IndexFlatL2(dim)\n",
        "\n",
        "faiss_start = time.time()\n",
        "faiss_index.add(X)\n",
        "faiss_build_time = time.time() - faiss_start\n",
        "\n",
        "faiss_start = time.perf_counter()\n",
        "distances_f, indices_f = faiss_index.search(query, k)\n",
        "faiss_query_time = time.perf_counter() - faiss_start\n",
        "\n",
        "faiss_total_time = faiss_build_time + faiss_query_time\n",
        "\n",
        "print('\\nFAISS :')\n",
        "print(\"Build time:\", faiss_build_time, \"s\")\n",
        "print(\"Query time:\", faiss_query_time, \"s\")\n",
        "print(\"Neighbors:\", indices_f[0][:5], \"...\")\n",
        "print(\"Time of execution:\", faiss_total_time, \"s\")\n",
        "\n",
        "# HNSW\n",
        "hnsw_index = hnswlib.Index(space='l2', dim=dim)\n",
        "\n",
        "hnsw_start = time.perf_counter()\n",
        "hnsw_index.init_index(max_elements=n_data, ef_construction=200, M=16)\n",
        "hnsw_index.add_items(X)\n",
        "hnsw_build_time = time.perf_counter() - hnsw_start\n",
        "\n",
        "hnsw_index.set_ef(50)\n",
        "\n",
        "hnsw_start = time.perf_counter()\n",
        "labels_h, distances_h = hnsw_index.knn_query(query, k=k)\n",
        "hnsw_query_time = time.perf_counter() - hnsw_start\n",
        "\n",
        "hnsw_total_time = hnsw_build_time + hnsw_query_time\n",
        "\n",
        "print('\\nHNSW :')\n",
        "print(\"Build time:\", hnsw_build_time, \"s\")\n",
        "print(\"Query time:\", hnsw_query_time, \"s\")\n",
        "print(\"Neighbors:\", labels_h[0][:5], \"...\")\n",
        "print(\"Time of execution:\", hnsw_total_time, \"s\")"
      ],
      "metadata": {
        "colab": {
          "base_uri": "https://localhost:8080/"
        },
        "id": "76PdzJqdOjES",
        "outputId": "bc7554e8-0e75-4aeb-9298-cc880f337335"
      },
      "execution_count": null,
      "outputs": [
        {
          "output_type": "stream",
          "name": "stdout",
          "text": [
            "=== CRITERIA : 1000/5D ===\n",
            "\n",
            "ANNOY :\n",
            "Build time: 0.01903986930847168 s\n",
            "Query time: 0.00023555755615234375 s\n",
            "Neighbors: [988, 780, 27, 943, 93] ...\n",
            "Time of execution: 0.019275426864624023 s\n",
            "\n",
            "FAISS :\n",
            "Build time: 0.00011992454528808594 s\n",
            "Query time: 0.00012134400003560586 s\n",
            "Neighbors: [988 780  27 943  93] ...\n",
            "Time of execution: 0.0002412685453236918 s\n",
            "\n",
            "HNSW :\n",
            "Build time: 0.055544876999988446 s\n",
            "Query time: 0.0001736570000048232 s\n",
            "Neighbors: [988 780  27 943  93] ...\n",
            "Time of execution: 0.05571853399999327 s\n"
          ]
        }
      ]
    },
    {
      "cell_type": "markdown",
      "source": [
        "## 1.000.000/2D"
      ],
      "metadata": {
        "id": "V1Cqapm2O2BU"
      }
    },
    {
      "cell_type": "code",
      "source": [
        "from tabulate import tabulate\n",
        "from annoy import AnnoyIndex\n",
        "import time\n",
        "import numpy as np\n",
        "import faiss\n",
        "import hnswlib\n",
        "\n",
        "print('=== CRITERIA : 1000000/2D ===\\n')\n",
        "\n",
        "np.random.seed(42)\n",
        "\n",
        "n_data = 1_000_000\n",
        "dim = 2\n",
        "k = 10\n",
        "\n",
        "X = np.random.random((n_data, dim)).astype(np.float32)\n",
        "query = np.random.random((1, dim)).astype(np.float32)\n",
        "\n",
        "# ANNOY\n",
        "ann_index = AnnoyIndex(dim, 'euclidean')\n",
        "\n",
        "ann_start = time.time()\n",
        "for i in range(n_data):\n",
        "    ann_index.add_item(i, X[i])\n",
        "ann_index.build(n_trees=10)\n",
        "ann_build_time = time.time() - ann_start\n",
        "\n",
        "ann_start = time.time()\n",
        "ann_neighbors = ann_index.get_nns_by_vector(query[0], 10, include_distances=True)\n",
        "ann_query_time = time.time() - ann_start\n",
        "\n",
        "ann_total_time = ann_build_time + ann_query_time\n",
        "\n",
        "print('ANNOY :')\n",
        "print(\"Build time:\", ann_build_time, \"s\")\n",
        "print(\"Query time:\", ann_query_time, \"s\")\n",
        "print(\"Neighbors:\", ann_neighbors[0][:5], \"...\")\n",
        "print(\"Time of execution:\", ann_total_time, \"s\")\n",
        "\n",
        "# FAISS\n",
        "faiss_index = faiss.IndexFlatL2(dim)\n",
        "\n",
        "faiss_start = time.time()\n",
        "faiss_index.add(X)\n",
        "faiss_build_time = time.time() - faiss_start\n",
        "\n",
        "faiss_start = time.perf_counter()\n",
        "distances_f, indices_f = faiss_index.search(query, k)\n",
        "faiss_query_time = time.perf_counter() - faiss_start\n",
        "\n",
        "faiss_total_time = faiss_build_time + faiss_query_time\n",
        "\n",
        "print('\\nFAISS :')\n",
        "print(\"Build time:\", faiss_build_time, \"s\")\n",
        "print(\"Query time:\", faiss_query_time, \"s\")\n",
        "print(\"Neighbors:\", indices_f[0][:5], \"...\")\n",
        "print(\"Time of execution:\", faiss_total_time, \"s\")\n",
        "\n",
        "# HNSW\n",
        "hnsw_index = hnswlib.Index(space='l2', dim=dim)\n",
        "\n",
        "hnsw_start = time.perf_counter()\n",
        "hnsw_index.init_index(max_elements=n_data, ef_construction=200, M=16)\n",
        "hnsw_index.add_items(X)\n",
        "hnsw_build_time = time.perf_counter() - hnsw_start\n",
        "\n",
        "hnsw_index.set_ef(50)\n",
        "\n",
        "hnsw_start = time.perf_counter()\n",
        "labels_h, distances_h = hnsw_index.knn_query(query, k=k)\n",
        "hnsw_query_time = time.perf_counter() - hnsw_start\n",
        "\n",
        "hnsw_total_time = hnsw_build_time + hnsw_query_time\n",
        "\n",
        "print('\\nHNSW :')\n",
        "print(\"Build time:\", hnsw_build_time, \"s\")\n",
        "print(\"Query time:\", hnsw_query_time, \"s\")\n",
        "print(\"Neighbors:\", labels_h[0][:5], \"...\")\n",
        "print(\"Time of execution:\", hnsw_total_time, \"s\")"
      ],
      "metadata": {
        "colab": {
          "base_uri": "https://localhost:8080/"
        },
        "id": "5EvxGC8hO7A_",
        "outputId": "c81053f5-c92f-41fb-e5aa-b74244312f01"
      },
      "execution_count": null,
      "outputs": [
        {
          "output_type": "stream",
          "name": "stdout",
          "text": [
            "=== CRITERIA : 1000000/2D ===\n",
            "\n",
            "ANNOY :\n",
            "Build time: 32.87340950965881 s\n",
            "Query time: 0.0002923011779785156 s\n",
            "Neighbors: [132774, 119034, 511191, 482199, 913140] ...\n",
            "Time of execution: 32.87370181083679 s\n",
            "\n",
            "FAISS :\n",
            "Build time: 0.0035452842712402344 s\n",
            "Query time: 0.01239277900003799 s\n",
            "Neighbors: [132774 119034 511191 482199 913140] ...\n",
            "Time of execution: 0.015938063271278224 s\n",
            "\n",
            "HNSW :\n",
            "Build time: 114.72071342100026 s\n",
            "Query time: 0.00025223300008292426 s\n",
            "Neighbors: [132774 119034 511191 482199 913140] ...\n",
            "Time of execution: 114.72096565400034 s\n"
          ]
        }
      ]
    },
    {
      "cell_type": "markdown",
      "source": [
        "## 1.000.000/5D"
      ],
      "metadata": {
        "id": "dlssGT3sO4uz"
      }
    },
    {
      "cell_type": "code",
      "source": [
        "from tabulate import tabulate\n",
        "from annoy import AnnoyIndex\n",
        "import time\n",
        "import numpy as np\n",
        "import faiss\n",
        "import hnswlib\n",
        "\n",
        "print('=== CRITERIA : 1000000/5D ===\\n')\n",
        "\n",
        "np.random.seed(42)\n",
        "\n",
        "n_data = 1_000_000\n",
        "dim = 5\n",
        "k = 10\n",
        "\n",
        "X = np.random.random((n_data, dim)).astype(np.float32)\n",
        "query = np.random.random((1, dim)).astype(np.float32)\n",
        "\n",
        "# ANNOY\n",
        "ann_index = AnnoyIndex(dim, 'euclidean')\n",
        "\n",
        "ann_start = time.time()\n",
        "for i in range(n_data):\n",
        "    ann_index.add_item(i, X[i])\n",
        "ann_index.build(n_trees=10)\n",
        "ann_build_time = time.time() - ann_start\n",
        "\n",
        "ann_start = time.time()\n",
        "ann_neighbors = ann_index.get_nns_by_vector(query[0], 10, include_distances=True)\n",
        "ann_query_time = time.time() - ann_start\n",
        "\n",
        "ann_total_time = ann_build_time + ann_query_time\n",
        "\n",
        "print('ANNOY :')\n",
        "print(\"Build time:\", ann_build_time, \"s\")\n",
        "print(\"Query time:\", ann_query_time, \"s\")\n",
        "print(\"Neighbors:\", ann_neighbors[0][:5], \"...\")\n",
        "print(\"Time of execution:\", ann_total_time, \"s\")\n",
        "\n",
        "# FAISS\n",
        "faiss_index = faiss.IndexFlatL2(dim)\n",
        "\n",
        "faiss_start = time.time()\n",
        "faiss_index.add(X)\n",
        "faiss_build_time = time.time() - faiss_start\n",
        "\n",
        "faiss_start = time.perf_counter()\n",
        "distances_f, indices_f = faiss_index.search(query, k)\n",
        "faiss_query_time = time.perf_counter() - faiss_start\n",
        "\n",
        "faiss_total_time = faiss_build_time + faiss_query_time\n",
        "\n",
        "print('\\nFAISS :')\n",
        "print(\"Build time:\", faiss_build_time, \"s\")\n",
        "print(\"Query time:\", faiss_query_time, \"s\")\n",
        "print(\"Neighbors:\", indices_f[0][:5], \"...\")\n",
        "print(\"Time of execution:\", faiss_total_time, \"s\")\n",
        "\n",
        "# HNSW\n",
        "hnsw_index = hnswlib.Index(space='l2', dim=dim)\n",
        "\n",
        "hnsw_start = time.perf_counter()\n",
        "hnsw_index.init_index(max_elements=n_data, ef_construction=200, M=16)\n",
        "hnsw_index.add_items(X)\n",
        "hnsw_build_time = time.perf_counter() - hnsw_start\n",
        "\n",
        "hnsw_index.set_ef(50)\n",
        "\n",
        "hnsw_start = time.perf_counter()\n",
        "labels_h, distances_h = hnsw_index.knn_query(query, k=k)\n",
        "hnsw_query_time = time.perf_counter() - hnsw_start\n",
        "\n",
        "hnsw_total_time = hnsw_build_time + hnsw_query_time\n",
        "\n",
        "print('\\nHNSW :')\n",
        "print(\"Build time:\", hnsw_build_time, \"s\")\n",
        "print(\"Query time:\", hnsw_query_time, \"s\")\n",
        "print(\"Neighbors:\", labels_h[0][:5], \"...\")\n",
        "print(\"Time of execution:\", hnsw_total_time, \"s\")"
      ],
      "metadata": {
        "colab": {
          "base_uri": "https://localhost:8080/"
        },
        "id": "OcsnEBCVO7do",
        "outputId": "8a8c9337-6ca2-4cf2-854e-69a696aa00b0"
      },
      "execution_count": null,
      "outputs": [
        {
          "output_type": "stream",
          "name": "stdout",
          "text": [
            "=== CRITERIA : 1000000/5D ===\n",
            "\n",
            "ANNOY :\n",
            "Build time: 22.019793272018433 s\n",
            "Query time: 0.00029659271240234375 s\n",
            "Neighbors: [901095, 495168, 561017, 163986, 185734] ...\n",
            "Time of execution: 22.020089864730835 s\n",
            "\n",
            "FAISS :\n",
            "Build time: 0.016237974166870117 s\n",
            "Query time: 0.006557560000032936 s\n",
            "Neighbors: [901095 495168 561017 163986 185734] ...\n",
            "Time of execution: 0.022795534166903053 s\n",
            "\n",
            "HNSW :\n",
            "Build time: 188.79677887399998 s\n",
            "Query time: 0.0002804910000122618 s\n",
            "Neighbors: [901095 495168 561017 163986 185734] ...\n",
            "Time of execution: 188.797059365 s\n"
          ]
        }
      ]
    },
    {
      "cell_type": "markdown",
      "source": [
        "## Table of results"
      ],
      "metadata": {
        "id": "PGDg7pxJu4yg"
      }
    },
    {
      "cell_type": "code",
      "source": [
        "# time of execution\n",
        "criteria_1000_2d = \"1000/2D\"\n",
        "annoy_time_1000_2d = 0.039200782775878906\n",
        "faiss_time_1000_2d = 0.0002839373619281105\n",
        "hnsw_time_1000_2d = 0.04683007899984659\n",
        "\n",
        "criteria_1000_5d = \"1000/5D\"\n",
        "annoy_time_1000_5d = 0.029189109802246094\n",
        "faiss_time_1000_5d = 0.00039263375037990045\n",
        "hnsw_time_1000_5d = 0.106513695999638\n",
        "\n",
        "criteria_1m_2d = \"1000000/2D\"\n",
        "annoy_time_1m_2d = 39.74855422973633\n",
        "faiss_time_1m_2d = 0.017293943244112597\n",
        "hnsw_time_1m_2d = 146.69600510700002\n",
        "\n",
        "criteria_1m_5d = \"1000000/5D\"\n",
        "annoy_time_1m_5d = 27.242169857025146\n",
        "faiss_time_1m_5d = 0.037798856305926165\n",
        "hnsw_time_1m_5d = 242.91149382599997\n",
        "\n",
        "data = {\n",
        "    \"Criteria (Rows/Dimension)\": [\"1000/2D\", \"1000/5D\", \"1000000/2D\", \"1000000/5D\"],\n",
        "    \"ANNOY\": [annoy_time_1000_2d, annoy_time_1000_5d, annoy_time_1m_2d, annoy_time_1m_5d],\n",
        "    \"FAISS\": [faiss_time_1000_2d, faiss_time_1000_5d, faiss_time_1m_2d, faiss_time_1m_5d],\n",
        "    \"HNSW\": [hnsw_time_1000_2d, hnsw_time_1000_5d, hnsw_time_1m_2d, hnsw_time_1m_5d],\n",
        "}\n",
        "\n",
        "df_results = pd.DataFrame(data)\n",
        "df_results"
      ],
      "metadata": {
        "colab": {
          "base_uri": "https://localhost:8080/",
          "height": 193
        },
        "id": "5lnOsERrX7fp",
        "outputId": "75e7a130-07fb-45df-cec3-cd5ca656f5a0"
      },
      "execution_count": null,
      "outputs": [
        {
          "output_type": "error",
          "ename": "NameError",
          "evalue": "name 'pd' is not defined",
          "traceback": [
            "\u001b[0;31m---------------------------------------------------------------------------\u001b[0m",
            "\u001b[0;31mNameError\u001b[0m                                 Traceback (most recent call last)",
            "\u001b[0;32m/tmp/ipython-input-2661129597.py\u001b[0m in \u001b[0;36m<cell line: 0>\u001b[0;34m()\u001b[0m\n\u001b[1;32m     27\u001b[0m }\n\u001b[1;32m     28\u001b[0m \u001b[0;34m\u001b[0m\u001b[0m\n\u001b[0;32m---> 29\u001b[0;31m \u001b[0mdf_results\u001b[0m \u001b[0;34m=\u001b[0m \u001b[0mpd\u001b[0m\u001b[0;34m.\u001b[0m\u001b[0mDataFrame\u001b[0m\u001b[0;34m(\u001b[0m\u001b[0mdata\u001b[0m\u001b[0;34m)\u001b[0m\u001b[0;34m\u001b[0m\u001b[0;34m\u001b[0m\u001b[0m\n\u001b[0m\u001b[1;32m     30\u001b[0m \u001b[0mdf_results\u001b[0m\u001b[0;34m\u001b[0m\u001b[0;34m\u001b[0m\u001b[0m\n",
            "\u001b[0;31mNameError\u001b[0m: name 'pd' is not defined"
          ]
        }
      ]
    },
    {
      "cell_type": "markdown",
      "source": [
        "# ** Assignment 2**"
      ],
      "metadata": {
        "id": "uKQKBbm713PF"
      }
    },
    {
      "cell_type": "markdown",
      "source": [
        "## 1. Download the data and load the CSV file (select the first dataset of the two available)."
      ],
      "metadata": {
        "id": "p-xR__WZlMTr"
      }
    },
    {
      "cell_type": "code",
      "source": [
        "import pandas as pd\n",
        "import numpy as np\n",
        "import time\n",
        "import faiss\n",
        "from annoy import AnnoyIndex\n",
        "import hnswlib\n",
        "from sklearn.neighbors import NearestNeighbors\n",
        "from sklearn.preprocessing import StandardScaler\n",
        "\n",
        "# -------------------------------\n",
        "# Load dataset\n",
        "# -------------------------------\n",
        "df = pd.read_csv('/content/drive/MyDrive/ML/songs_with_attributes_and_lyrics.csv')  # ganti path sesuai lokasi file\n",
        "features = ['danceability', 'energy', 'loudness', 'speechiness',\n",
        "            'acousticness', 'instrumentalness', 'liveness', 'valence', 'tempo']\n",
        "X = df[features].values\n",
        "\n",
        "scaler = StandardScaler()\n",
        "X_scaled = scaler.fit_transform(X)\n",
        "\n",
        "k ="
      ],
      "metadata": {
        "id": "lYJIeEBiQM77",
        "colab": {
          "base_uri": "https://localhost:8080/",
          "height": 373
        },
        "outputId": "58f1b339-2a4f-48e4-8bd3-f91cf672ee4d"
      },
      "execution_count": null,
      "outputs": [
        {
          "output_type": "error",
          "ename": "FileNotFoundError",
          "evalue": "[Errno 2] No such file or directory: '/content/drive/MyDrive/ML/songs_with_attributes_and_lyrics.csv'",
          "traceback": [
            "\u001b[0;31m---------------------------------------------------------------------------\u001b[0m",
            "\u001b[0;31mFileNotFoundError\u001b[0m                         Traceback (most recent call last)",
            "\u001b[0;32m/tmp/ipython-input-2468725486.py\u001b[0m in \u001b[0;36m<cell line: 0>\u001b[0;34m()\u001b[0m\n\u001b[1;32m     11\u001b[0m \u001b[0;31m# Load dataset\u001b[0m\u001b[0;34m\u001b[0m\u001b[0;34m\u001b[0m\u001b[0m\n\u001b[1;32m     12\u001b[0m \u001b[0;31m# -------------------------------\u001b[0m\u001b[0;34m\u001b[0m\u001b[0;34m\u001b[0m\u001b[0m\n\u001b[0;32m---> 13\u001b[0;31m \u001b[0mdf\u001b[0m \u001b[0;34m=\u001b[0m \u001b[0mpd\u001b[0m\u001b[0;34m.\u001b[0m\u001b[0mread_csv\u001b[0m\u001b[0;34m(\u001b[0m\u001b[0;34m'/content/drive/MyDrive/ML/songs_with_attributes_and_lyrics.csv'\u001b[0m\u001b[0;34m)\u001b[0m  \u001b[0;31m# ganti path sesuai lokasi file\u001b[0m\u001b[0;34m\u001b[0m\u001b[0;34m\u001b[0m\u001b[0m\n\u001b[0m\u001b[1;32m     14\u001b[0m features = ['danceability', 'energy', 'loudness', 'speechiness',\n\u001b[1;32m     15\u001b[0m             'acousticness', 'instrumentalness', 'liveness', 'valence', 'tempo']\n",
            "\u001b[0;32m/usr/local/lib/python3.12/dist-packages/pandas/io/parsers/readers.py\u001b[0m in \u001b[0;36mread_csv\u001b[0;34m(filepath_or_buffer, sep, delimiter, header, names, index_col, usecols, dtype, engine, converters, true_values, false_values, skipinitialspace, skiprows, skipfooter, nrows, na_values, keep_default_na, na_filter, verbose, skip_blank_lines, parse_dates, infer_datetime_format, keep_date_col, date_parser, date_format, dayfirst, cache_dates, iterator, chunksize, compression, thousands, decimal, lineterminator, quotechar, quoting, doublequote, escapechar, comment, encoding, encoding_errors, dialect, on_bad_lines, delim_whitespace, low_memory, memory_map, float_precision, storage_options, dtype_backend)\u001b[0m\n\u001b[1;32m   1024\u001b[0m     \u001b[0mkwds\u001b[0m\u001b[0;34m.\u001b[0m\u001b[0mupdate\u001b[0m\u001b[0;34m(\u001b[0m\u001b[0mkwds_defaults\u001b[0m\u001b[0;34m)\u001b[0m\u001b[0;34m\u001b[0m\u001b[0;34m\u001b[0m\u001b[0m\n\u001b[1;32m   1025\u001b[0m \u001b[0;34m\u001b[0m\u001b[0m\n\u001b[0;32m-> 1026\u001b[0;31m     \u001b[0;32mreturn\u001b[0m \u001b[0m_read\u001b[0m\u001b[0;34m(\u001b[0m\u001b[0mfilepath_or_buffer\u001b[0m\u001b[0;34m,\u001b[0m \u001b[0mkwds\u001b[0m\u001b[0;34m)\u001b[0m\u001b[0;34m\u001b[0m\u001b[0;34m\u001b[0m\u001b[0m\n\u001b[0m\u001b[1;32m   1027\u001b[0m \u001b[0;34m\u001b[0m\u001b[0m\n\u001b[1;32m   1028\u001b[0m \u001b[0;34m\u001b[0m\u001b[0m\n",
            "\u001b[0;32m/usr/local/lib/python3.12/dist-packages/pandas/io/parsers/readers.py\u001b[0m in \u001b[0;36m_read\u001b[0;34m(filepath_or_buffer, kwds)\u001b[0m\n\u001b[1;32m    618\u001b[0m \u001b[0;34m\u001b[0m\u001b[0m\n\u001b[1;32m    619\u001b[0m     \u001b[0;31m# Create the parser.\u001b[0m\u001b[0;34m\u001b[0m\u001b[0;34m\u001b[0m\u001b[0m\n\u001b[0;32m--> 620\u001b[0;31m     \u001b[0mparser\u001b[0m \u001b[0;34m=\u001b[0m \u001b[0mTextFileReader\u001b[0m\u001b[0;34m(\u001b[0m\u001b[0mfilepath_or_buffer\u001b[0m\u001b[0;34m,\u001b[0m \u001b[0;34m**\u001b[0m\u001b[0mkwds\u001b[0m\u001b[0;34m)\u001b[0m\u001b[0;34m\u001b[0m\u001b[0;34m\u001b[0m\u001b[0m\n\u001b[0m\u001b[1;32m    621\u001b[0m \u001b[0;34m\u001b[0m\u001b[0m\n\u001b[1;32m    622\u001b[0m     \u001b[0;32mif\u001b[0m \u001b[0mchunksize\u001b[0m \u001b[0;32mor\u001b[0m \u001b[0miterator\u001b[0m\u001b[0;34m:\u001b[0m\u001b[0;34m\u001b[0m\u001b[0;34m\u001b[0m\u001b[0m\n",
            "\u001b[0;32m/usr/local/lib/python3.12/dist-packages/pandas/io/parsers/readers.py\u001b[0m in \u001b[0;36m__init__\u001b[0;34m(self, f, engine, **kwds)\u001b[0m\n\u001b[1;32m   1618\u001b[0m \u001b[0;34m\u001b[0m\u001b[0m\n\u001b[1;32m   1619\u001b[0m         \u001b[0mself\u001b[0m\u001b[0;34m.\u001b[0m\u001b[0mhandles\u001b[0m\u001b[0;34m:\u001b[0m \u001b[0mIOHandles\u001b[0m \u001b[0;34m|\u001b[0m \u001b[0;32mNone\u001b[0m \u001b[0;34m=\u001b[0m \u001b[0;32mNone\u001b[0m\u001b[0;34m\u001b[0m\u001b[0;34m\u001b[0m\u001b[0m\n\u001b[0;32m-> 1620\u001b[0;31m         \u001b[0mself\u001b[0m\u001b[0;34m.\u001b[0m\u001b[0m_engine\u001b[0m \u001b[0;34m=\u001b[0m \u001b[0mself\u001b[0m\u001b[0;34m.\u001b[0m\u001b[0m_make_engine\u001b[0m\u001b[0;34m(\u001b[0m\u001b[0mf\u001b[0m\u001b[0;34m,\u001b[0m \u001b[0mself\u001b[0m\u001b[0;34m.\u001b[0m\u001b[0mengine\u001b[0m\u001b[0;34m)\u001b[0m\u001b[0;34m\u001b[0m\u001b[0;34m\u001b[0m\u001b[0m\n\u001b[0m\u001b[1;32m   1621\u001b[0m \u001b[0;34m\u001b[0m\u001b[0m\n\u001b[1;32m   1622\u001b[0m     \u001b[0;32mdef\u001b[0m \u001b[0mclose\u001b[0m\u001b[0;34m(\u001b[0m\u001b[0mself\u001b[0m\u001b[0;34m)\u001b[0m \u001b[0;34m->\u001b[0m \u001b[0;32mNone\u001b[0m\u001b[0;34m:\u001b[0m\u001b[0;34m\u001b[0m\u001b[0;34m\u001b[0m\u001b[0m\n",
            "\u001b[0;32m/usr/local/lib/python3.12/dist-packages/pandas/io/parsers/readers.py\u001b[0m in \u001b[0;36m_make_engine\u001b[0;34m(self, f, engine)\u001b[0m\n\u001b[1;32m   1878\u001b[0m                 \u001b[0;32mif\u001b[0m \u001b[0;34m\"b\"\u001b[0m \u001b[0;32mnot\u001b[0m \u001b[0;32min\u001b[0m \u001b[0mmode\u001b[0m\u001b[0;34m:\u001b[0m\u001b[0;34m\u001b[0m\u001b[0;34m\u001b[0m\u001b[0m\n\u001b[1;32m   1879\u001b[0m                     \u001b[0mmode\u001b[0m \u001b[0;34m+=\u001b[0m \u001b[0;34m\"b\"\u001b[0m\u001b[0;34m\u001b[0m\u001b[0;34m\u001b[0m\u001b[0m\n\u001b[0;32m-> 1880\u001b[0;31m             self.handles = get_handle(\n\u001b[0m\u001b[1;32m   1881\u001b[0m                 \u001b[0mf\u001b[0m\u001b[0;34m,\u001b[0m\u001b[0;34m\u001b[0m\u001b[0;34m\u001b[0m\u001b[0m\n\u001b[1;32m   1882\u001b[0m                 \u001b[0mmode\u001b[0m\u001b[0;34m,\u001b[0m\u001b[0;34m\u001b[0m\u001b[0;34m\u001b[0m\u001b[0m\n",
            "\u001b[0;32m/usr/local/lib/python3.12/dist-packages/pandas/io/common.py\u001b[0m in \u001b[0;36mget_handle\u001b[0;34m(path_or_buf, mode, encoding, compression, memory_map, is_text, errors, storage_options)\u001b[0m\n\u001b[1;32m    871\u001b[0m         \u001b[0;32mif\u001b[0m \u001b[0mioargs\u001b[0m\u001b[0;34m.\u001b[0m\u001b[0mencoding\u001b[0m \u001b[0;32mand\u001b[0m \u001b[0;34m\"b\"\u001b[0m \u001b[0;32mnot\u001b[0m \u001b[0;32min\u001b[0m \u001b[0mioargs\u001b[0m\u001b[0;34m.\u001b[0m\u001b[0mmode\u001b[0m\u001b[0;34m:\u001b[0m\u001b[0;34m\u001b[0m\u001b[0;34m\u001b[0m\u001b[0m\n\u001b[1;32m    872\u001b[0m             \u001b[0;31m# Encoding\u001b[0m\u001b[0;34m\u001b[0m\u001b[0;34m\u001b[0m\u001b[0m\n\u001b[0;32m--> 873\u001b[0;31m             handle = open(\n\u001b[0m\u001b[1;32m    874\u001b[0m                 \u001b[0mhandle\u001b[0m\u001b[0;34m,\u001b[0m\u001b[0;34m\u001b[0m\u001b[0;34m\u001b[0m\u001b[0m\n\u001b[1;32m    875\u001b[0m                 \u001b[0mioargs\u001b[0m\u001b[0;34m.\u001b[0m\u001b[0mmode\u001b[0m\u001b[0;34m,\u001b[0m\u001b[0;34m\u001b[0m\u001b[0;34m\u001b[0m\u001b[0m\n",
            "\u001b[0;31mFileNotFoundError\u001b[0m: [Errno 2] No such file or directory: '/content/drive/MyDrive/ML/songs_with_attributes_and_lyrics.csv'"
          ]
        }
      ]
    },
    {
      "cell_type": "markdown",
      "source": [
        "## 2. Select only the numerical features, and normalize them using StandardScaler.\n"
      ],
      "metadata": {
        "id": "kAIZt00Ah4iD"
      }
    },
    {
      "cell_type": "code",
      "source": [
        "features = [\n",
        "    'danceability', 'energy', 'loudness', 'speechiness',\n",
        "    'acousticness', 'instrumentalness', 'liveness', 'valence', 'tempo'\n",
        "]\n",
        "\n",
        "X = df[features].values\n",
        "\n",
        "scaler = StandardScaler()\n",
        "X_scaled = scaler.fit_transform(X)\n",
        "\n",
        "print(\"Scaled feature sample : \", X_scaled[:5])\n",
        "print(\"Shape : \", X_scaled.shape)"
      ],
      "metadata": {
        "colab": {
          "base_uri": "https://localhost:8080/"
        },
        "id": "OYrOug6Fgm41",
        "outputId": "06cbe9b4-a778-4d61-9fa5-746db35a7b6f"
      },
      "execution_count": null,
      "outputs": [
        {
          "output_type": "stream",
          "name": "stdout",
          "text": [
            "Scaled feature sample :  [[-0.7993069  -0.19864811 -0.87638549 -0.28127217 -0.90379193  3.55339717\n",
            "   1.28005204 -1.17358297 -0.75050368]\n",
            " [ 1.39759768 -0.01859905 -0.34315988  2.48965792  1.97895487 -0.38476917\n",
            "  -0.22552979 -0.79977796 -1.4297021 ]\n",
            " [-3.24358412 -2.58367008 -3.24821096 -0.90002355  2.00461236 -0.38476917\n",
            "   1.32088138 -1.94107622 -4.13816703]\n",
            " [ 0.62603066  0.96120282  0.39391508 -0.48572915 -0.88377909 -0.38470949\n",
            "  -0.8818614   1.79299717  0.04610963]\n",
            " [ 0.63781031  1.00726188 -0.18387785 -0.45775082 -0.61180974 -0.38467941\n",
            "  -0.8512394   1.84071696  0.04651591]]\n",
            "Shape :  (955320, 9)\n"
          ]
        }
      ]
    },
    {
      "cell_type": "markdown",
      "source": [
        "## 3. Perform nearest track search and compare the results."
      ],
      "metadata": {
        "id": "pYzeAb3eh-qB"
      }
    },
    {
      "cell_type": "code",
      "source": [
        "from ctypes import string_at\n",
        "from sklearn.neighbors import NearestNeighbors\n",
        "import time as tm\n",
        "\n",
        "k = 10\n",
        "query_idx = 100\n",
        "query_vector = X_scaled[query_idx].reshape(1, -1)\n",
        "\n",
        "start = tm.time()\n",
        "exact_nn = NearestNeighbors(n_neighbors=k, algorithm='brute', metric='euclidean')\n",
        "exact_nn.fit(X_scaled)\n",
        "distances, indices = exact_nn.kneighbors(query_vector)\n",
        "exact_time = tm.time() - start\n",
        "\n",
        "print(\"Exact NN indices:\", indices)\n",
        "print(\"Exact NN distances:\", distances)\n",
        "print(\"Exact NN time:\", exact_time, \"seconds\")"
      ],
      "metadata": {
        "colab": {
          "base_uri": "https://localhost:8080/"
        },
        "id": "3gyYr6XFhJFA",
        "outputId": "1144a524-4dc1-44df-d58a-ff529d5676a6"
      },
      "execution_count": null,
      "outputs": [
        {
          "output_type": "stream",
          "name": "stdout",
          "text": [
            "Exact NN indices: [[   100 814549 250273 354470 793977 683626 843918  14210 365044 819999]]\n",
            "Exact NN distances: [[0.         1.29201942 1.40137289 1.65303427 1.67632189 1.73909912\n",
            "  1.74027484 1.7628803  1.77549768 1.79298379]]\n",
            "Exact NN time: 0.11305570602416992 seconds\n"
          ]
        }
      ]
    },
    {
      "cell_type": "code",
      "source": [
        "# ANNOY\n",
        "import time as tm\n",
        "\n",
        "dim = X_scaled.shape[1]\n",
        "annoy_idx = AnnoyIndex(dim, 'euclidean')\n",
        "\n",
        "start = tm.time()\n",
        "for i in range(X_scaled.shape[0]):\n",
        "    annoy_idx.add_item(i, X_scaled[i])\n",
        "annoy_idx.build(n_trees=10)\n",
        "build_time_annoy = tm.time() - start\n",
        "\n",
        "start = tm.time()\n",
        "annoy_neighbors = annoy_idx.get_nns_by_vector(query_vector[0], k, include_distances=True)\n",
        "annoy_query_time = tm.time() - start\n",
        "\n",
        "print(\"Annoy neighbors:\", annoy_neighbors[0])\n",
        "print(\"Annoy build time:\", build_time_annoy)\n",
        "print(\"Annoy query time:\", annoy_query_time)"
      ],
      "metadata": {
        "colab": {
          "base_uri": "https://localhost:8080/"
        },
        "id": "Uqfsg7TnjmnA",
        "outputId": "75a91312-2c3b-4956-84fe-7a51c26a4d1a"
      },
      "execution_count": null,
      "outputs": [
        {
          "output_type": "stream",
          "name": "stdout",
          "text": [
            "Annoy neighbors: [100, 814549, 250273, 354470, 683626, 365044, 819999, 259765, 67613, 905898]\n",
            "Annoy build time: 26.651923894882202\n",
            "Annoy query time: 0.0002472400665283203\n"
          ]
        }
      ]
    },
    {
      "cell_type": "code",
      "source": [
        "# FAISS\n",
        "dim = X_scaled.shape[1]\n",
        "faiss_idx = faiss.IndexFlatL2(dim)\n",
        "\n",
        "start = tm.time()\n",
        "faiss_idx.add(X_scaled.astype(np.float32))\n",
        "build_time_faiss = tm.time() - start\n",
        "\n",
        "start = tm.time()\n",
        "distances, indices = faiss_idx.search(query_vector.astype(np.float32), k)\n",
        "faiss_query_time = tm.time() - start\n",
        "\n",
        "print(\"FAISS neighbors:\", indices[0])\n",
        "print(\"FAISS build time:\", build_time_faiss)\n",
        "print(\"FAISS query time:\", faiss_query_time)"
      ],
      "metadata": {
        "colab": {
          "base_uri": "https://localhost:8080/"
        },
        "id": "9p97LFBXmEuF",
        "outputId": "501d6a4b-353d-4686-e3d4-88cfb493af4d"
      },
      "execution_count": null,
      "outputs": [
        {
          "output_type": "stream",
          "name": "stdout",
          "text": [
            "FAISS neighbors: [   100 814549 250273 354470 793977 683626 843918  14210 365044 819999]\n",
            "FAISS build time: 0.14424347877502441\n",
            "FAISS query time: 0.009019851684570312\n"
          ]
        }
      ]
    },
    {
      "cell_type": "code",
      "source": [
        "# HNSW\n",
        "dim = X_scaled.shape[1]\n",
        "hnsw_idx = hnswlib.Index(space='l2', dim=dim)\n",
        "\n",
        "start = tm.time()\n",
        "hnsw_idx.init_index(max_elements=X_scaled.shape[0], ef_construction=200, M=16)\n",
        "hnsw_idx.add_items(X_scaled)\n",
        "build_time_hnsw = tm.time() - start\n",
        "\n",
        "hnsw_idx.set_ef(50)\n",
        "\n",
        "start = tm.time()\n",
        "labels, distances = hnsw_idx.knn_query(query_vector, k=k)\n",
        "hnsw_query_time = tm.time() - start\n",
        "\n",
        "print(\"HNSW neighbors:\", labels[0])\n",
        "print(\"HNSW build time:\", build_time_hnsw)\n",
        "print(\"HNSW query time:\", hnsw_query_time)"
      ],
      "metadata": {
        "colab": {
          "base_uri": "https://localhost:8080/"
        },
        "id": "rvJo7Q-Rm2IC",
        "outputId": "7e74f6a6-641e-40e2-d270-56ff10681860"
      },
      "execution_count": null,
      "outputs": [
        {
          "output_type": "stream",
          "name": "stdout",
          "text": [
            "HNSW neighbors: [   100 814549 250273 354470 793977 683626 843918  14210 365044 819999]\n",
            "HNSW build time: 279.48669934272766\n",
            "HNSW query time: 0.0005924701690673828\n"
          ]
        }
      ]
    },
    {
      "cell_type": "markdown",
      "source": [
        "## 4. Compare the performance among Exact NN, Annoy, FAISS, and HNSW."
      ],
      "metadata": {
        "id": "l0nJQaePsmXr"
      }
    },
    {
      "cell_type": "code",
      "source": [
        "data = {\n",
        "    'Method' : ['Exact NN', 'Annoy', 'FAISS', 'HNSW'],\n",
        "    'Build Time' : [exact_time, build_time_annoy, build_time_faiss, build_time_hnsw],\n",
        "    'Query Time' : [exact_time, annoy_query_time, faiss_query_time, hnsw_query_time]\n",
        "}\n",
        "\n",
        "df_results = pd.DataFrame(data)\n",
        "df_results"
      ],
      "metadata": {
        "colab": {
          "base_uri": "https://localhost:8080/",
          "height": 174
        },
        "id": "7MDfFaMpuMES",
        "outputId": "6e33288c-e609-4c8f-bccb-8d5d1131062b"
      },
      "execution_count": null,
      "outputs": [
        {
          "output_type": "execute_result",
          "data": {
            "text/plain": [
              "     Method  Build Time  Query Time\n",
              "0  Exact NN    0.113056    0.113056\n",
              "1     Annoy   26.651924    0.000247\n",
              "2     FAISS    0.144243    0.009020\n",
              "3      HNSW  279.486699    0.000592"
            ],
            "text/html": [
              "\n",
              "  <div id=\"df-501530eb-e1d5-4772-8303-3ca590e74835\" class=\"colab-df-container\">\n",
              "    <div>\n",
              "<style scoped>\n",
              "    .dataframe tbody tr th:only-of-type {\n",
              "        vertical-align: middle;\n",
              "    }\n",
              "\n",
              "    .dataframe tbody tr th {\n",
              "        vertical-align: top;\n",
              "    }\n",
              "\n",
              "    .dataframe thead th {\n",
              "        text-align: right;\n",
              "    }\n",
              "</style>\n",
              "<table border=\"1\" class=\"dataframe\">\n",
              "  <thead>\n",
              "    <tr style=\"text-align: right;\">\n",
              "      <th></th>\n",
              "      <th>Method</th>\n",
              "      <th>Build Time</th>\n",
              "      <th>Query Time</th>\n",
              "    </tr>\n",
              "  </thead>\n",
              "  <tbody>\n",
              "    <tr>\n",
              "      <th>0</th>\n",
              "      <td>Exact NN</td>\n",
              "      <td>0.113056</td>\n",
              "      <td>0.113056</td>\n",
              "    </tr>\n",
              "    <tr>\n",
              "      <th>1</th>\n",
              "      <td>Annoy</td>\n",
              "      <td>26.651924</td>\n",
              "      <td>0.000247</td>\n",
              "    </tr>\n",
              "    <tr>\n",
              "      <th>2</th>\n",
              "      <td>FAISS</td>\n",
              "      <td>0.144243</td>\n",
              "      <td>0.009020</td>\n",
              "    </tr>\n",
              "    <tr>\n",
              "      <th>3</th>\n",
              "      <td>HNSW</td>\n",
              "      <td>279.486699</td>\n",
              "      <td>0.000592</td>\n",
              "    </tr>\n",
              "  </tbody>\n",
              "</table>\n",
              "</div>\n",
              "    <div class=\"colab-df-buttons\">\n",
              "\n",
              "  <div class=\"colab-df-container\">\n",
              "    <button class=\"colab-df-convert\" onclick=\"convertToInteractive('df-501530eb-e1d5-4772-8303-3ca590e74835')\"\n",
              "            title=\"Convert this dataframe to an interactive table.\"\n",
              "            style=\"display:none;\">\n",
              "\n",
              "  <svg xmlns=\"http://www.w3.org/2000/svg\" height=\"24px\" viewBox=\"0 -960 960 960\">\n",
              "    <path d=\"M120-120v-720h720v720H120Zm60-500h600v-160H180v160Zm220 220h160v-160H400v160Zm0 220h160v-160H400v160ZM180-400h160v-160H180v160Zm440 0h160v-160H620v160ZM180-180h160v-160H180v160Zm440 0h160v-160H620v160Z\"/>\n",
              "  </svg>\n",
              "    </button>\n",
              "\n",
              "  <style>\n",
              "    .colab-df-container {\n",
              "      display:flex;\n",
              "      gap: 12px;\n",
              "    }\n",
              "\n",
              "    .colab-df-convert {\n",
              "      background-color: #E8F0FE;\n",
              "      border: none;\n",
              "      border-radius: 50%;\n",
              "      cursor: pointer;\n",
              "      display: none;\n",
              "      fill: #1967D2;\n",
              "      height: 32px;\n",
              "      padding: 0 0 0 0;\n",
              "      width: 32px;\n",
              "    }\n",
              "\n",
              "    .colab-df-convert:hover {\n",
              "      background-color: #E2EBFA;\n",
              "      box-shadow: 0px 1px 2px rgba(60, 64, 67, 0.3), 0px 1px 3px 1px rgba(60, 64, 67, 0.15);\n",
              "      fill: #174EA6;\n",
              "    }\n",
              "\n",
              "    .colab-df-buttons div {\n",
              "      margin-bottom: 4px;\n",
              "    }\n",
              "\n",
              "    [theme=dark] .colab-df-convert {\n",
              "      background-color: #3B4455;\n",
              "      fill: #D2E3FC;\n",
              "    }\n",
              "\n",
              "    [theme=dark] .colab-df-convert:hover {\n",
              "      background-color: #434B5C;\n",
              "      box-shadow: 0px 1px 3px 1px rgba(0, 0, 0, 0.15);\n",
              "      filter: drop-shadow(0px 1px 2px rgba(0, 0, 0, 0.3));\n",
              "      fill: #FFFFFF;\n",
              "    }\n",
              "  </style>\n",
              "\n",
              "    <script>\n",
              "      const buttonEl =\n",
              "        document.querySelector('#df-501530eb-e1d5-4772-8303-3ca590e74835 button.colab-df-convert');\n",
              "      buttonEl.style.display =\n",
              "        google.colab.kernel.accessAllowed ? 'block' : 'none';\n",
              "\n",
              "      async function convertToInteractive(key) {\n",
              "        const element = document.querySelector('#df-501530eb-e1d5-4772-8303-3ca590e74835');\n",
              "        const dataTable =\n",
              "          await google.colab.kernel.invokeFunction('convertToInteractive',\n",
              "                                                    [key], {});\n",
              "        if (!dataTable) return;\n",
              "\n",
              "        const docLinkHtml = 'Like what you see? Visit the ' +\n",
              "          '<a target=\"_blank\" href=https://colab.research.google.com/notebooks/data_table.ipynb>data table notebook</a>'\n",
              "          + ' to learn more about interactive tables.';\n",
              "        element.innerHTML = '';\n",
              "        dataTable['output_type'] = 'display_data';\n",
              "        await google.colab.output.renderOutput(dataTable, element);\n",
              "        const docLink = document.createElement('div');\n",
              "        docLink.innerHTML = docLinkHtml;\n",
              "        element.appendChild(docLink);\n",
              "      }\n",
              "    </script>\n",
              "  </div>\n",
              "\n",
              "\n",
              "    <div id=\"df-f1ed1779-0cbc-4534-b356-01f461d844c1\">\n",
              "      <button class=\"colab-df-quickchart\" onclick=\"quickchart('df-f1ed1779-0cbc-4534-b356-01f461d844c1')\"\n",
              "                title=\"Suggest charts\"\n",
              "                style=\"display:none;\">\n",
              "\n",
              "<svg xmlns=\"http://www.w3.org/2000/svg\" height=\"24px\"viewBox=\"0 0 24 24\"\n",
              "     width=\"24px\">\n",
              "    <g>\n",
              "        <path d=\"M19 3H5c-1.1 0-2 .9-2 2v14c0 1.1.9 2 2 2h14c1.1 0 2-.9 2-2V5c0-1.1-.9-2-2-2zM9 17H7v-7h2v7zm4 0h-2V7h2v10zm4 0h-2v-4h2v4z\"/>\n",
              "    </g>\n",
              "</svg>\n",
              "      </button>\n",
              "\n",
              "<style>\n",
              "  .colab-df-quickchart {\n",
              "      --bg-color: #E8F0FE;\n",
              "      --fill-color: #1967D2;\n",
              "      --hover-bg-color: #E2EBFA;\n",
              "      --hover-fill-color: #174EA6;\n",
              "      --disabled-fill-color: #AAA;\n",
              "      --disabled-bg-color: #DDD;\n",
              "  }\n",
              "\n",
              "  [theme=dark] .colab-df-quickchart {\n",
              "      --bg-color: #3B4455;\n",
              "      --fill-color: #D2E3FC;\n",
              "      --hover-bg-color: #434B5C;\n",
              "      --hover-fill-color: #FFFFFF;\n",
              "      --disabled-bg-color: #3B4455;\n",
              "      --disabled-fill-color: #666;\n",
              "  }\n",
              "\n",
              "  .colab-df-quickchart {\n",
              "    background-color: var(--bg-color);\n",
              "    border: none;\n",
              "    border-radius: 50%;\n",
              "    cursor: pointer;\n",
              "    display: none;\n",
              "    fill: var(--fill-color);\n",
              "    height: 32px;\n",
              "    padding: 0;\n",
              "    width: 32px;\n",
              "  }\n",
              "\n",
              "  .colab-df-quickchart:hover {\n",
              "    background-color: var(--hover-bg-color);\n",
              "    box-shadow: 0 1px 2px rgba(60, 64, 67, 0.3), 0 1px 3px 1px rgba(60, 64, 67, 0.15);\n",
              "    fill: var(--button-hover-fill-color);\n",
              "  }\n",
              "\n",
              "  .colab-df-quickchart-complete:disabled,\n",
              "  .colab-df-quickchart-complete:disabled:hover {\n",
              "    background-color: var(--disabled-bg-color);\n",
              "    fill: var(--disabled-fill-color);\n",
              "    box-shadow: none;\n",
              "  }\n",
              "\n",
              "  .colab-df-spinner {\n",
              "    border: 2px solid var(--fill-color);\n",
              "    border-color: transparent;\n",
              "    border-bottom-color: var(--fill-color);\n",
              "    animation:\n",
              "      spin 1s steps(1) infinite;\n",
              "  }\n",
              "\n",
              "  @keyframes spin {\n",
              "    0% {\n",
              "      border-color: transparent;\n",
              "      border-bottom-color: var(--fill-color);\n",
              "      border-left-color: var(--fill-color);\n",
              "    }\n",
              "    20% {\n",
              "      border-color: transparent;\n",
              "      border-left-color: var(--fill-color);\n",
              "      border-top-color: var(--fill-color);\n",
              "    }\n",
              "    30% {\n",
              "      border-color: transparent;\n",
              "      border-left-color: var(--fill-color);\n",
              "      border-top-color: var(--fill-color);\n",
              "      border-right-color: var(--fill-color);\n",
              "    }\n",
              "    40% {\n",
              "      border-color: transparent;\n",
              "      border-right-color: var(--fill-color);\n",
              "      border-top-color: var(--fill-color);\n",
              "    }\n",
              "    60% {\n",
              "      border-color: transparent;\n",
              "      border-right-color: var(--fill-color);\n",
              "    }\n",
              "    80% {\n",
              "      border-color: transparent;\n",
              "      border-right-color: var(--fill-color);\n",
              "      border-bottom-color: var(--fill-color);\n",
              "    }\n",
              "    90% {\n",
              "      border-color: transparent;\n",
              "      border-bottom-color: var(--fill-color);\n",
              "    }\n",
              "  }\n",
              "</style>\n",
              "\n",
              "      <script>\n",
              "        async function quickchart(key) {\n",
              "          const quickchartButtonEl =\n",
              "            document.querySelector('#' + key + ' button');\n",
              "          quickchartButtonEl.disabled = true;  // To prevent multiple clicks.\n",
              "          quickchartButtonEl.classList.add('colab-df-spinner');\n",
              "          try {\n",
              "            const charts = await google.colab.kernel.invokeFunction(\n",
              "                'suggestCharts', [key], {});\n",
              "          } catch (error) {\n",
              "            console.error('Error during call to suggestCharts:', error);\n",
              "          }\n",
              "          quickchartButtonEl.classList.remove('colab-df-spinner');\n",
              "          quickchartButtonEl.classList.add('colab-df-quickchart-complete');\n",
              "        }\n",
              "        (() => {\n",
              "          let quickchartButtonEl =\n",
              "            document.querySelector('#df-f1ed1779-0cbc-4534-b356-01f461d844c1 button');\n",
              "          quickchartButtonEl.style.display =\n",
              "            google.colab.kernel.accessAllowed ? 'block' : 'none';\n",
              "        })();\n",
              "      </script>\n",
              "    </div>\n",
              "\n",
              "  <div id=\"id_ebb9dac3-a063-4757-88d9-7adbac831e2a\">\n",
              "    <style>\n",
              "      .colab-df-generate {\n",
              "        background-color: #E8F0FE;\n",
              "        border: none;\n",
              "        border-radius: 50%;\n",
              "        cursor: pointer;\n",
              "        display: none;\n",
              "        fill: #1967D2;\n",
              "        height: 32px;\n",
              "        padding: 0 0 0 0;\n",
              "        width: 32px;\n",
              "      }\n",
              "\n",
              "      .colab-df-generate:hover {\n",
              "        background-color: #E2EBFA;\n",
              "        box-shadow: 0px 1px 2px rgba(60, 64, 67, 0.3), 0px 1px 3px 1px rgba(60, 64, 67, 0.15);\n",
              "        fill: #174EA6;\n",
              "      }\n",
              "\n",
              "      [theme=dark] .colab-df-generate {\n",
              "        background-color: #3B4455;\n",
              "        fill: #D2E3FC;\n",
              "      }\n",
              "\n",
              "      [theme=dark] .colab-df-generate:hover {\n",
              "        background-color: #434B5C;\n",
              "        box-shadow: 0px 1px 3px 1px rgba(0, 0, 0, 0.15);\n",
              "        filter: drop-shadow(0px 1px 2px rgba(0, 0, 0, 0.3));\n",
              "        fill: #FFFFFF;\n",
              "      }\n",
              "    </style>\n",
              "    <button class=\"colab-df-generate\" onclick=\"generateWithVariable('df_results')\"\n",
              "            title=\"Generate code using this dataframe.\"\n",
              "            style=\"display:none;\">\n",
              "\n",
              "  <svg xmlns=\"http://www.w3.org/2000/svg\" height=\"24px\"viewBox=\"0 0 24 24\"\n",
              "       width=\"24px\">\n",
              "    <path d=\"M7,19H8.4L18.45,9,17,7.55,7,17.6ZM5,21V16.75L18.45,3.32a2,2,0,0,1,2.83,0l1.4,1.43a1.91,1.91,0,0,1,.58,1.4,1.91,1.91,0,0,1-.58,1.4L9.25,21ZM18.45,9,17,7.55Zm-12,3A5.31,5.31,0,0,0,4.9,8.1,5.31,5.31,0,0,0,1,6.5,5.31,5.31,0,0,0,4.9,4.9,5.31,5.31,0,0,0,6.5,1,5.31,5.31,0,0,0,8.1,4.9,5.31,5.31,0,0,0,12,6.5,5.46,5.46,0,0,0,6.5,12Z\"/>\n",
              "  </svg>\n",
              "    </button>\n",
              "    <script>\n",
              "      (() => {\n",
              "      const buttonEl =\n",
              "        document.querySelector('#id_ebb9dac3-a063-4757-88d9-7adbac831e2a button.colab-df-generate');\n",
              "      buttonEl.style.display =\n",
              "        google.colab.kernel.accessAllowed ? 'block' : 'none';\n",
              "\n",
              "      buttonEl.onclick = () => {\n",
              "        google.colab.notebook.generateWithVariable('df_results');\n",
              "      }\n",
              "      })();\n",
              "    </script>\n",
              "  </div>\n",
              "\n",
              "    </div>\n",
              "  </div>\n"
            ],
            "application/vnd.google.colaboratory.intrinsic+json": {
              "type": "dataframe",
              "variable_name": "df_results",
              "summary": "{\n  \"name\": \"df_results\",\n  \"rows\": 4,\n  \"fields\": [\n    {\n      \"column\": \"Method\",\n      \"properties\": {\n        \"dtype\": \"string\",\n        \"num_unique_values\": 4,\n        \"samples\": [\n          \"Annoy\",\n          \"HNSW\",\n          \"Exact NN\"\n        ],\n        \"semantic_type\": \"\",\n        \"description\": \"\"\n      }\n    },\n    {\n      \"column\": \"Build Time\",\n      \"properties\": {\n        \"dtype\": \"number\",\n        \"std\": 135.83514325006243,\n        \"min\": 0.11305570602416992,\n        \"max\": 279.48669934272766,\n        \"num_unique_values\": 4,\n        \"samples\": [\n          26.651923894882202,\n          279.48669934272766,\n          0.11305570602416992\n        ],\n        \"semantic_type\": \"\",\n        \"description\": \"\"\n      }\n    },\n    {\n      \"column\": \"Query Time\",\n      \"properties\": {\n        \"dtype\": \"number\",\n        \"std\": 0.05503429768223308,\n        \"min\": 0.0002472400665283203,\n        \"max\": 0.11305570602416992,\n        \"num_unique_values\": 4,\n        \"samples\": [\n          0.0002472400665283203,\n          0.0005924701690673828,\n          0.11305570602416992\n        ],\n        \"semantic_type\": \"\",\n        \"description\": \"\"\n      }\n    }\n  ]\n}"
            }
          },
          "metadata": {},
          "execution_count": 13
        }
      ]
    }
  ]
}